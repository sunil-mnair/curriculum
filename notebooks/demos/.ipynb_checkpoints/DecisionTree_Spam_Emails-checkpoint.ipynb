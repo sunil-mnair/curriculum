{
 "cells": [
  {
   "cell_type": "code",
   "execution_count": null,
   "id": "99244e31-44dd-4250-981d-64ecc1890fcc",
   "metadata": {},
   "outputs": [],
   "source": [
    "from sklearn.feature_extraction.text import CountVectorizer\n",
    "from sklearn.tree import DecisionTreeClassifier, export_text\n",
    "from sklearn.model_selection import train_test_split\n",
    "from sklearn.metrics import accuracy_score\n",
    "\n"
   ]
  },
  {
   "cell_type": "code",
   "execution_count": null,
   "id": "39f2872a-b929-49b0-8c78-87518ea60139",
   "metadata": {},
   "outputs": [],
   "source": [
    "# Sample dataset: Raw text emails and their labels (1 = spam, 0 = not spam)\n",
    "data = [\n",
    "    (\"Congratulations! You won a free iPhone. Click here to claim.\", 1),  # Spam\n",
    "    (\"Hello John, are we still meeting tomorrow for lunch?\", 0),         # Not Spam\n",
    "    (\"Limited offer: Buy now and get 50% off on your purchase.\", 1),     # Spam\n",
    "    (\"Reminder: Your package will be delivered tomorrow.\", 0),           # Not Spam\n",
    "    (\"Earn money fast! Work from home and make $$$ easily!\", 1),         # Spam\n",
    "    (\"Hi Sarah, can you send me the report by Friday?\", 0)               # Not Spam\n",
    "]\n",
    "\n"
   ]
  },
  {
   "cell_type": "code",
   "execution_count": null,
   "id": "2237e491-903d-4b26-89df-c83323fa91c4",
   "metadata": {},
   "outputs": [],
   "source": [
    "# Separate the dataset into raw text and labels\n",
    "texts, labels = zip(*data)\n",
    "\n"
   ]
  },
  {
   "cell_type": "code",
   "execution_count": null,
   "id": "d9b58714-bfca-485f-90af-bc53ed4d9f0c",
   "metadata": {},
   "outputs": [],
   "source": [
    "\n",
    "\n",
    "\n",
    "\n",
    "\n",
    "\n"
   ]
  },
  {
   "cell_type": "code",
   "execution_count": null,
   "id": "d92aacc9-d627-40e7-8390-2439c4ddfe53",
   "metadata": {},
   "outputs": [],
   "source": [
    "# Convert text data into numerical features using CountVectorizer\n",
    "vectorizer = CountVectorizer()\n",
    "X = vectorizer.fit_transform(texts).toarray()  # Convert to feature matrix\n",
    "feature_names = vectorizer.get_feature_names_out()\n"
   ]
  },
  {
   "cell_type": "code",
   "execution_count": null,
   "id": "236d6893-1214-42ad-b054-70d5e7779892",
   "metadata": {},
   "outputs": [],
   "source": [
    "# Split data into training and testing sets\n",
    "X_train, X_test, y_train, y_test = train_test_split(X, labels, test_size=0.33, random_state=42)\n"
   ]
  },
  {
   "cell_type": "code",
   "execution_count": null,
   "id": "5021ed20-b132-4109-b0a4-dc4e3b7bf67b",
   "metadata": {},
   "outputs": [],
   "source": [
    "# Create and train the Decision Tree Classifier\n",
    "clf = DecisionTreeClassifier(criterion=\"gini\", max_depth=3, random_state=42)\n",
    "clf.fit(X_train, y_train)\n"
   ]
  },
  {
   "cell_type": "code",
   "execution_count": null,
   "id": "203b9c61-f0cb-4067-90d1-647905e09a6e",
   "metadata": {},
   "outputs": [],
   "source": [
    "# Make predictions\n",
    "y_pred = clf.predict(X_test)\n"
   ]
  },
  {
   "cell_type": "code",
   "execution_count": null,
   "id": "2c3bfb2b-6f0f-438d-9d29-528943c473e1",
   "metadata": {},
   "outputs": [],
   "source": [
    "# Evaluate the model\n",
    "accuracy = accuracy_score(y_test, y_pred)\n",
    "print(f\"Accuracy: {accuracy:.2f}\")\n"
   ]
  },
  {
   "cell_type": "code",
   "execution_count": null,
   "id": "72e93251-cbb4-4bc5-84ac-df7ff1e6461e",
   "metadata": {},
   "outputs": [],
   "source": [
    "# Visualize the decision tree rules\n",
    "tree_rules = export_text(clf, feature_names=feature_names)\n",
    "print(\"\\nDecision Tree Rules:\\n\")\n",
    "print(tree_rules)\n"
   ]
  },
  {
   "cell_type": "code",
   "execution_count": null,
   "id": "33b73ad0-7b00-40fb-a6e5-a980d532b4de",
   "metadata": {},
   "outputs": [],
   "source": [
    "# Example prediction on new data\n",
    "new_emails = [\n",
    "    \"Win a free vacation by signing up today!\",\n",
    "    \"Hi Mark, please review the attached document.\"\n",
    "]\n",
    "new_features = vectorizer.transform(new_emails).toarray()\n",
    "predictions = clf.predict(new_features)\n",
    "\n",
    "for email, pred in zip(new_emails, predictions):\n",
    "    print(f\"Email: \\\"{email}\\\" -> {'Spam' if pred == 1 else 'Not Spam'}\")\n"
   ]
  }
 ],
 "metadata": {
  "kernelspec": {
   "display_name": "Python 3 (ipykernel)",
   "language": "python",
   "name": "python3"
  },
  "language_info": {
   "codemirror_mode": {
    "name": "ipython",
    "version": 3
   },
   "file_extension": ".py",
   "mimetype": "text/x-python",
   "name": "python",
   "nbconvert_exporter": "python",
   "pygments_lexer": "ipython3",
   "version": "3.9.7"
  }
 },
 "nbformat": 4,
 "nbformat_minor": 5
}
