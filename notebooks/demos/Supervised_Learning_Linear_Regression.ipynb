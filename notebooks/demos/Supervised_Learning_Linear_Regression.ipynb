{
 "cells": [
  {
   "cell_type": "markdown",
   "id": "73400675-5dd8-4a3e-9bda-8ad61698d10a",
   "metadata": {},
   "source": [
    "## Import Libraries"
   ]
  },
  {
   "cell_type": "code",
   "execution_count": 28,
   "id": "2674c9af-c803-42ab-90a7-a7d55385e65e",
   "metadata": {},
   "outputs": [],
   "source": [
    "import numpy as np\n",
    "import matplotlib.pyplot as plt\n",
    "from sklearn.linear_model import LinearRegression\n",
    "from sklearn.preprocessing import StandardScaler\n",
    "from IPython.display import clear_output\n",
    "import time\n",
    "\n",
    "import warnings\n",
    "warnings.filterwarnings('ignore')"
   ]
  },
  {
   "cell_type": "markdown",
   "id": "a9c1d54d-717b-41e8-8b41-b8af7e55e3e8",
   "metadata": {},
   "source": [
    "## Generate Sample Data"
   ]
  },
  {
   "cell_type": "code",
   "execution_count": 34,
   "id": "76eb3045-e55e-4828-8718-6b649f54a2f9",
   "metadata": {},
   "outputs": [],
   "source": [
    "# Sample data with all variables\n",
    "sizes = [1646.44, 2145.57, 1808.29, 1634.65, 1270.96, 2784.98, 2410.72, 635.46, 2037.22, 2865.12]  # House sizes in sq.ft.\n",
    "locations = [3, 3, 1, 2, 2, 1, 3, 1, 2, 3]  # Location quality levels\n",
    "bedrooms = [3, 4, 2, 3, 3, 5, 4, 1, 3, 5]  # Number of bedrooms\n",
    "age = [10, 5, 20, 15, 25, 3, 7, 30, 12, 2]  # Age of the property in years\n",
    "distance_to_city_center = [5, 3, 10, 8, 15, 4, 6, 12, 7, 2]  # Distance to city center in km\n",
    "proximity_to_transport = [1, 1, 0, 1, 0, 1, 1, 0, 0, 1]  # 1 for near, 0 for far\n",
    "crime_rate = [0.02, 0.03, 0.05, 0.04, 0.06, 0.02, 0.03, 0.05, 0.04, 0.01]  # Crime rate in the neighborhood\n",
    "school_quality_index = [8, 9, 6, 7, 5, 9, 8, 5, 7, 10]  # Quality of local schools on a scale of 1-10\n",
    "lot_size = [500, 650, 450, 400, 550, 700, 620, 300, 580, 750]  # Lot size in sq.m.\n",
    "\n",
    "prices = [32713.25, 32312.04, 18012.88, 19464.60, 21946.63, 12749.24, 32288.62, 11148.43, 16496.83, 40090.37]  # Prices in thousands\n",
    "\n",
    "# Combine all features into a feature matrix\n",
    "X = np.column_stack((sizes, locations, bedrooms, age, distance_to_city_center, \n",
    "                     proximity_to_transport, crime_rate, school_quality_index, lot_size))\n",
    "y = np.array(prices)"
   ]
  },
  {
   "cell_type": "markdown",
   "id": "7cdb26f7-dbd3-4890-be3f-e6f6f8210bfd",
   "metadata": {
    "tags": []
   },
   "source": [
    "## Pre-Process the Data"
   ]
  },
  {
   "cell_type": "code",
   "execution_count": 35,
   "id": "f323d176-546e-4b27-ac31-69bc8287e545",
   "metadata": {},
   "outputs": [],
   "source": [
    "# Standardize features for more stable training\n",
    "scaler = StandardScaler()\n",
    "X_scaled = scaler.fit_transform(X)\n",
    "\n",
    "# Standardize the updated features\n",
    "X_scaled = scaler.transform(X)"
   ]
  },
  {
   "cell_type": "markdown",
   "id": "88d3d08d-7b17-4647-9f93-3e4aa167e5bf",
   "metadata": {},
   "source": [
    "## Build the Model"
   ]
  },
  {
   "cell_type": "code",
   "execution_count": 36,
   "id": "af0bcdd0-3a3b-4f94-af1f-ff94111d4f85",
   "metadata": {},
   "outputs": [],
   "source": [
    "# Linear regression model\n",
    "model = LinearRegression()\n",
    " \n",
    "# Train model on updated data\n",
    "model.fit(X_scaled, y)\n",
    "y_pred = model.predict(X_scaled)"
   ]
  },
  {
   "cell_type": "markdown",
   "id": "10d463b1-0bf9-4b8e-aea0-52eca17734c6",
   "metadata": {},
   "source": [
    "## Apply Model on Test Data"
   ]
  },
  {
   "cell_type": "code",
   "execution_count": 37,
   "id": "15241e6b-38f2-475a-8eda-fbc913f32eda",
   "metadata": {},
   "outputs": [
    {
     "name": "stdout",
     "output_type": "stream",
     "text": [
      "Predicted Price: 13303.22 thousand\n"
     ]
    }
   ],
   "source": [
    "# Define a sample for prediction with all variables\n",
    "new_data = [2500, 3, 4, 8, 4, 1, 0.02, 8, 600]  # New sample data\n",
    "\n",
    "new_X = np.array([new_data])  # Prepare new data for prediction\n",
    "new_X_scaled = scaler.transform(new_X)  # Scale new data using the same scaler\n",
    "\n",
    "# Predict the price for the new sample\n",
    "predicted_price = model.predict(new_X_scaled)\n",
    "print(f\"Predicted Price: {predicted_price[0]:.2f} thousand\")"
   ]
  },
  {
   "cell_type": "code",
   "execution_count": null,
   "id": "b1ff1390-b448-4a11-bd2b-c1186a56d187",
   "metadata": {},
   "outputs": [],
   "source": []
  }
 ],
 "metadata": {
  "kernelspec": {
   "display_name": "Python 3 (ipykernel)",
   "language": "python",
   "name": "python3"
  },
  "language_info": {
   "codemirror_mode": {
    "name": "ipython",
    "version": 3
   },
   "file_extension": ".py",
   "mimetype": "text/x-python",
   "name": "python",
   "nbconvert_exporter": "python",
   "pygments_lexer": "ipython3",
   "version": "3.9.7"
  }
 },
 "nbformat": 4,
 "nbformat_minor": 5
}
