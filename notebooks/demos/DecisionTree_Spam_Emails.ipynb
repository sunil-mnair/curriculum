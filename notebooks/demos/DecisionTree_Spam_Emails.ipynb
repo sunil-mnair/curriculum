{
 "cells": [
  {
   "cell_type": "code",
   "execution_count": 1,
   "id": "99244e31-44dd-4250-981d-64ecc1890fcc",
   "metadata": {},
   "outputs": [
    {
     "name": "stderr",
     "output_type": "stream",
     "text": [
      "/Users/sunilnair/opt/anaconda3/lib/python3.9/site-packages/scipy/__init__.py:146: UserWarning: A NumPy version >=1.16.5 and <1.23.0 is required for this version of SciPy (detected version 1.23.1\n",
      "  warnings.warn(f\"A NumPy version >={np_minversion} and <{np_maxversion}\"\n"
     ]
    }
   ],
   "source": [
    "from sklearn.feature_extraction.text import CountVectorizer\n",
    "from sklearn.tree import DecisionTreeClassifier, export_text\n",
    "from sklearn.model_selection import train_test_split\n",
    "from sklearn.metrics import accuracy_score\n",
    "\n",
    "import warnings\n",
    "warnings.filterwarnings('ignore')"
   ]
  },
  {
   "cell_type": "code",
   "execution_count": 15,
   "id": "39f2872a-b929-49b0-8c78-87518ea60139",
   "metadata": {},
   "outputs": [],
   "source": [
    "# Sample dataset: Raw text emails and their labels (1 = spam, 0 = not spam)\n",
    "data = [\n",
    "    (\"Congratulations! You won a free iPhone. Click here to claim.\", 1),  # Spam\n",
    "    (\"Hello John, are we still meeting tomorrow for lunch?\", 0),         # Not Spam\n",
    "    (\"Limited offer: Buy now and get 50% off on your purchase.\", 1),     # Spam\n",
    "    (\"Reminder: Your package will be delivered tomorrow.\", 0),           # Not Spam\n",
    "    (\"Earn money fast! Work from home and make $$$ easily!\", 1),         # Spam\n",
    "    (\"Hi Sarah, can you send me the report by Friday?\", 0),              # Not Spam\n",
    "    (\"Exclusive deal! Get a free gift card with every order.\", 1),       # Spam\n",
    "    (\"Your Amazon order has been shipped. Track your delivery here.\", 0), # Not Spam\n",
    "    (\"Claim your reward points now. Limited time only!\", 1),             # Spam\n",
    "    (\"Meeting scheduled for 3 PM tomorrow. Please confirm.\", 0),         # Not Spam\n",
    "    (\"Congratulations on your promotion! Join us for a party.\", 0),      # Not Spam\n",
    "    (\"Free trial for premium membership. Sign up today!\", 1),            # Spam\n",
    "    (\"Your account password was successfully changed.\", 0),              # Not Spam\n",
    "    (\"Final notice: Your subscription is about to expire!\", 1),          # Spam\n",
    "    (\"Hello, here’s the document you requested.\", 0),                    # Not Spam\n",
    "    (\"Win a trip to Paris! Enter the contest now!\", 1),                  # Spam\n",
    "    (\"Your invoice for the last purchase is attached.\", 0),              # Not Spam\n",
    "    (\"Last chance to claim your exclusive offer. Act now!\", 1),          # Spam\n",
    "    (\"Don’t miss out on our holiday sale! Discounts up to 70%.\", 1),     # Spam\n",
    "    (\"Reminder: The team meeting starts in 10 minutes.\", 0),             # Not Spam\n",
    "]"
   ]
  },
  {
   "cell_type": "code",
   "execution_count": 16,
   "id": "2237e491-903d-4b26-89df-c83323fa91c4",
   "metadata": {},
   "outputs": [],
   "source": [
    "# Separate the dataset into raw text and labels\n",
    "texts, labels = zip(*data)"
   ]
  },
  {
   "cell_type": "code",
   "execution_count": 17,
   "id": "d92aacc9-d627-40e7-8390-2439c4ddfe53",
   "metadata": {},
   "outputs": [],
   "source": [
    "# Convert text data into numerical features using CountVectorizer\n",
    "vectorizer = CountVectorizer()\n",
    "X = vectorizer.fit_transform(texts).toarray()  # Convert to feature matrix\n",
    "# Use get_feature_names() for older versions of sklearn\n",
    "feature_names = vectorizer.get_feature_names()"
   ]
  },
  {
   "cell_type": "code",
   "execution_count": 18,
   "id": "236d6893-1214-42ad-b054-70d5e7779892",
   "metadata": {},
   "outputs": [],
   "source": [
    "# Split data into training and testing sets\n",
    "X_train, X_test, y_train, y_test = train_test_split(X, labels, test_size=0.33, random_state=42)"
   ]
  },
  {
   "cell_type": "code",
   "execution_count": 19,
   "id": "5021ed20-b132-4109-b0a4-dc4e3b7bf67b",
   "metadata": {},
   "outputs": [
    {
     "data": {
      "text/plain": [
       "DecisionTreeClassifier(max_depth=3, random_state=42)"
      ]
     },
     "execution_count": 19,
     "metadata": {},
     "output_type": "execute_result"
    }
   ],
   "source": [
    "# Create and train the Decision Tree Classifier\n",
    "clf = DecisionTreeClassifier(criterion=\"gini\", max_depth=3, random_state=42)\n",
    "clf.fit(X_train, y_train)"
   ]
  },
  {
   "cell_type": "code",
   "execution_count": 20,
   "id": "203b9c61-f0cb-4067-90d1-647905e09a6e",
   "metadata": {},
   "outputs": [],
   "source": [
    "# Make predictions\n",
    "y_pred = clf.predict(X_test)"
   ]
  },
  {
   "cell_type": "code",
   "execution_count": 21,
   "id": "2c3bfb2b-6f0f-438d-9d29-528943c473e1",
   "metadata": {},
   "outputs": [
    {
     "name": "stdout",
     "output_type": "stream",
     "text": [
      "Accuracy: 0.71\n"
     ]
    }
   ],
   "source": [
    "# Evaluate the model\n",
    "accuracy = accuracy_score(y_test, y_pred)\n",
    "print(f\"Accuracy: {accuracy:.2f}\")"
   ]
  },
  {
   "cell_type": "code",
   "execution_count": 22,
   "id": "72e93251-cbb4-4bc5-84ac-df7ff1e6461e",
   "metadata": {},
   "outputs": [
    {
     "name": "stdout",
     "output_type": "stream",
     "text": [
      "\n",
      "Decision Tree Rules:\n",
      "\n",
      "|--- get <= 0.50\n",
      "|   |--- to <= 0.50\n",
      "|   |   |--- easily <= 0.50\n",
      "|   |   |   |--- class: 0\n",
      "|   |   |--- easily >  0.50\n",
      "|   |   |   |--- class: 1\n",
      "|   |--- to >  0.50\n",
      "|   |   |--- class: 1\n",
      "|--- get >  0.50\n",
      "|   |--- class: 1\n",
      "\n"
     ]
    }
   ],
   "source": [
    "# Visualize the decision tree rules\n",
    "tree_rules = export_text(clf, feature_names=feature_names)\n",
    "print(\"\\nDecision Tree Rules:\\n\")\n",
    "print(tree_rules)"
   ]
  },
  {
   "cell_type": "code",
   "execution_count": 24,
   "id": "33b73ad0-7b00-40fb-a6e5-a980d532b4de",
   "metadata": {},
   "outputs": [
    {
     "name": "stdout",
     "output_type": "stream",
     "text": [
      "Email: \"Win Big a free vacation to Maldives by signing up today!\" -> Spam\n",
      "Email: \"Hi Mark, please review the attached document.\" -> Not Spam\n"
     ]
    }
   ],
   "source": [
    "# Example prediction on new data\n",
    "new_emails = [\n",
    "    \"Win Big a free vacation to Maldives by signing up today!\",\n",
    "    \"Hi Mark, please review the attached document.\"\n",
    "]\n",
    "new_features = vectorizer.transform(new_emails).toarray()\n",
    "predictions = clf.predict(new_features)\n",
    "\n",
    "for email, pred in zip(new_emails, predictions):\n",
    "    print(f\"Email: \\\"{email}\\\" -> {'Spam' if pred == 1 else 'Not Spam'}\")"
   ]
  },
  {
   "cell_type": "code",
   "execution_count": null,
   "id": "ead4cbb0-ca08-40b9-9c62-b10000917ffd",
   "metadata": {},
   "outputs": [],
   "source": []
  }
 ],
 "metadata": {
  "kernelspec": {
   "display_name": "Python 3 (ipykernel)",
   "language": "python",
   "name": "python3"
  },
  "language_info": {
   "codemirror_mode": {
    "name": "ipython",
    "version": 3
   },
   "file_extension": ".py",
   "mimetype": "text/x-python",
   "name": "python",
   "nbconvert_exporter": "python",
   "pygments_lexer": "ipython3",
   "version": "3.9.7"
  }
 },
 "nbformat": 4,
 "nbformat_minor": 5
}
